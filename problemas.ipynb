{
 "cells": [
  {
   "cell_type": "markdown",
   "metadata": {},
   "source": [
    "# Proyecto Final\n",
    "\n",
    "- **Vencimiento: Miércoles, 1 de junio**\n",
    "- **Calificación: .../10 (Auto califique su trabajo)**\n",
    "\n",
    "Su tarea debe entregarse en el cuaderno de ipython registrado en este repositorio de github. Para descargar esta tarea, su mejor opción es clonar el repositorio de github:\n",
    "\n",
    "    git clone https://github.com/rabernat/research_computing.git\n",
    "\n",
    "\n",
    "## Lectura opcional pero recomendada \n",
    "Lee las secciones 1-5 del [Tutorial de Python] oficial (https://docs.python.org/3/tutorial/index.html). Este excelente y bien escrito tutorial introduce todos los conceptos más importantes del núcleo del lenguaje python y su biblioteca estándar. Incluso si no lo lees, deberías saber dónde encontrarlo; si te quedas atascado, debería ser el primer lugar al que acudir en busca de ayuda. Como segundo apoyo para repasar las instrucciones más importantes lo encontrara en el curso [\"Introducción a Python\"](https://campus.datacamp.com/courses/introduccion-a-python)\n",
    "\n",
    "## Restricciones \n",
    "* Esta tarea debe realizarse en python básico: no `importe` ningún módulo adicional a menos que se le indique específicamente que lo haga.\n",
    "* Debes trabajar en esta tarea _solo_.\n",
    "* Trate de hacer los problemas usted mismo. Consulte los apuntes de clase y el [Tutorial de Python](https://docs.python.org/3/tutorial/index.html) si te quedas atascado. Evita buscar en Google al azar y hacer un montón de cosas. Una solución perfecta es menos importante que el proceso de averiguarlo por ti mismo.\n",
    "\n"
   ]
  },
  {
   "cell_type": "markdown",
   "metadata": {},
   "source": [
    "## 1. Diccionarios y cadenas"
   ]
  },
  {
   "cell_type": "markdown",
   "metadata": {},
   "source": [
    "En esta sección exploraremos un [diccionario](https://docs.python.org/3/tutorial/datastructures.html#dictionaries) cuyas claves y valores son [cadenas](https://docs.python.org/3/tutorial/introduction.html#strings). \n",
    "\n",
    "Copia y pega el siguiente código para leer un archivo de datos. (No se espera que comprenda exactamente lo que está sucediendo aquí... es solo una forma rápida de obtener algunos datos en python).\n",
    "\n",
    "    import pickle\n",
    "    with open('.data/class_names.pkl', 'rb') as file:\n",
    "        data = pickle.load(file)\n",
    "\n",
    "Esto cargará algunos datos generados previamente en la variable `data`. "
   ]
  },
  {
   "cell_type": "code",
   "execution_count": null,
   "metadata": {
    "collapsed": true,
    "jupyter": {
     "outputs_hidden": true
    }
   },
   "outputs": [],
   "source": []
  },
  {
   "cell_type": "markdown",
   "metadata": {},
   "source": [
    "### 1.1 Examine los datos permitiendo que el cuaderno los imprima\n",
    "(Simplemente ingrese `data` en la última línea de la celda y ejecútelo)\n"
   ]
  },
  {
   "cell_type": "code",
   "execution_count": null,
   "metadata": {
    "collapsed": true,
    "jupyter": {
     "outputs_hidden": true
    }
   },
   "outputs": [],
   "source": []
  },
  {
   "cell_type": "markdown",
   "metadata": {
    "tags": []
   },
   "source": [
    "## 1.2 Compare a la salida de `print(data)`\n",
    "¿Cuál se observa mejor?"
   ]
  },
  {
   "cell_type": "code",
   "execution_count": null,
   "metadata": {
    "collapsed": true,
    "jupyter": {
     "outputs_hidden": true
    }
   },
   "outputs": [],
   "source": []
  },
  {
   "cell_type": "markdown",
   "metadata": {},
   "source": [
    "### 1.3 Determinar qué tipo de objeto es `data`"
   ]
  },
  {
   "cell_type": "code",
   "execution_count": null,
   "metadata": {
    "collapsed": true,
    "jupyter": {
     "outputs_hidden": true
    }
   },
   "outputs": [],
   "source": []
  },
  {
   "cell_type": "markdown",
   "metadata": {},
   "source": [
    "### 1.4 Utilice la función `help` incorporada en python para averiguar qué operaciones están disponibles en `data`\n",
    "\n",
    "(¿Qué significan los métodos que empiezan por \\__?)"
   ]
  },
  {
   "cell_type": "code",
   "execution_count": null,
   "metadata": {
    "collapsed": true,
    "jupyter": {
     "outputs_hidden": true
    }
   },
   "outputs": [],
   "source": []
  },
  {
   "cell_type": "markdown",
   "metadata": {},
   "source": [
    "A estas alturas debería estar claro que los datos son un [dict](https://docs.python.org/3/library/stdtypes.html#mapping-types-dict) (es decir, un \"diccionario\") que asigna un identificador a los nombres de todos los estudiantes de la clase.\n",
    "\n",
    "Para el resto de las preguntas, el objetivo es que _python le diga la respuesta_. (Obviamente, usted podría contar / ordenar manualmente los datos, pero eso no es el objetivo).\n",
    "\n",
    "### 1.5 ¿Cuántas entradas hay en `data`?"
   ]
  },
  {
   "cell_type": "code",
   "execution_count": null,
   "metadata": {
    "collapsed": true,
    "jupyter": {
     "outputs_hidden": true
    }
   },
   "outputs": [],
   "source": []
  },
  {
   "cell_type": "markdown",
   "metadata": {},
   "source": [
    "### 1.6 ¿Está su nombre en `data`?"
   ]
  },
  {
   "cell_type": "code",
   "execution_count": null,
   "metadata": {
    "collapsed": true,
    "jupyter": {
     "outputs_hidden": true
    }
   },
   "outputs": [],
   "source": []
  },
  {
   "cell_type": "markdown",
   "metadata": {},
   "source": [
    "### 1.7 ¿Cuántas veces en total aparece el carácter \"s\" en los nombres?\n",
    "Hazlo de forma que no se distinga entre mayúsculas y minúsculas."
   ]
  },
  {
   "cell_type": "code",
   "execution_count": null,
   "metadata": {
    "collapsed": true,
    "jupyter": {
     "outputs_hidden": true
    }
   },
   "outputs": [],
   "source": []
  },
  {
   "cell_type": "markdown",
   "metadata": {},
   "source": [
    "### 1.7 Crear un nuevo diccionario que contenga las mismas claves pero sólo los nombres como valores"
   ]
  },
  {
   "cell_type": "code",
   "execution_count": null,
   "metadata": {
    "collapsed": true,
    "jupyter": {
     "outputs_hidden": true
    }
   },
   "outputs": [],
   "source": []
  },
  {
   "cell_type": "markdown",
   "metadata": {},
   "source": [
    "### 1.8 ¿Cuál es el nombre más largo?"
   ]
  },
  {
   "cell_type": "code",
   "execution_count": null,
   "metadata": {
    "collapsed": true,
    "jupyter": {
     "outputs_hidden": true
    }
   },
   "outputs": [],
   "source": []
  },
  {
   "cell_type": "markdown",
   "metadata": {},
   "source": [
    "### 1.9 Compruebe que la primera letra de cada identificador coincide con la primera letra de cada nombre\n",
    "(Ten cuidado con las mayúsculas y minúsculas)."
   ]
  },
  {
   "cell_type": "code",
   "execution_count": null,
   "metadata": {
    "collapsed": true,
    "jupyter": {
     "outputs_hidden": true
    }
   },
   "outputs": [],
   "source": []
  },
  {
   "cell_type": "markdown",
   "metadata": {},
   "source": [
    "## 2 Listas y números\n",
    "\n",
    "En esta sección, jugaremos con una [lista](https://docs.python.org/3/tutorial/introduction.html#lists) de [números](https://docs.python.org/3/tutorial/introduction.html#numbers).\n",
    "\n",
    "Ten en cuenta que hacer muchos cálculos numéricos en listas de números (usando sólo el núcleo de python) es algo incómodo e ineficiente. [Numpy](http://www.numpy.org/) hace este tipo de trabajo mucho más fácil; sin embargo, para apreciar numpy, es útil hacer primero las cosas de la \"manera difícil\".\n",
    "\n",
    "Ejecuta este trozo de código para cargar algunos datos.\n",
    "\n",
    "    with open('./data/numbers.pkl', 'rb') as file:\n",
    "        numbers = pickle.load(file)"
   ]
  },
  {
   "cell_type": "code",
   "execution_count": null,
   "metadata": {
    "collapsed": true,
    "jupyter": {
     "outputs_hidden": true
    }
   },
   "outputs": [],
   "source": []
  },
  {
   "cell_type": "markdown",
   "metadata": {},
   "source": [
    "### 2.1 Confirmar que `numbers` es efectivamente una lista"
   ]
  },
  {
   "cell_type": "code",
   "execution_count": null,
   "metadata": {
    "collapsed": true,
    "jupyter": {
     "outputs_hidden": true
    }
   },
   "outputs": [],
   "source": []
  },
  {
   "cell_type": "markdown",
   "metadata": {},
   "source": [
    "### 2.2 ¿Cuántos elementos hay en `numbers`?"
   ]
  },
  {
   "cell_type": "code",
   "execution_count": null,
   "metadata": {
    "collapsed": true,
    "jupyter": {
     "outputs_hidden": true
    }
   },
   "outputs": [],
   "source": []
  },
  {
   "cell_type": "markdown",
   "metadata": {},
   "source": [
    "### 2.3 ¿Cuál es la diferencia entre el primer y el último valor?"
   ]
  },
  {
   "cell_type": "code",
   "execution_count": null,
   "metadata": {
    "collapsed": true,
    "jupyter": {
     "outputs_hidden": true
    }
   },
   "outputs": [],
   "source": []
  },
  {
   "cell_type": "markdown",
   "metadata": {},
   "source": [
    "### 2.4 ¿Cuáles son los cinco primeros y los cinco últimos elementos?"
   ]
  },
  {
   "cell_type": "code",
   "execution_count": null,
   "metadata": {
    "collapsed": true,
    "jupyter": {
     "outputs_hidden": true
    }
   },
   "outputs": [],
   "source": []
  },
  {
   "cell_type": "markdown",
   "metadata": {},
   "source": [
    "### 2.5 ¿Cuál es el tipo del primer elemento? Confirma que todos los elementos tienen el mismo tipo."
   ]
  },
  {
   "cell_type": "code",
   "execution_count": null,
   "metadata": {
    "collapsed": true,
    "jupyter": {
     "outputs_hidden": true
    }
   },
   "outputs": [],
   "source": []
  },
  {
   "cell_type": "markdown",
   "metadata": {},
   "source": [
    "### 2.6 ¿Cuáles son los valores mínimos y máximos en `numbers`?"
   ]
  },
  {
   "cell_type": "code",
   "execution_count": null,
   "metadata": {
    "collapsed": true,
    "jupyter": {
     "outputs_hidden": true
    }
   },
   "outputs": [],
   "source": []
  },
  {
   "cell_type": "markdown",
   "metadata": {},
   "source": [
    "### 2.7 ¿Cuál es el promedio?"
   ]
  },
  {
   "cell_type": "code",
   "execution_count": null,
   "metadata": {
    "collapsed": true,
    "jupyter": {
     "outputs_hidden": true
    }
   },
   "outputs": [],
   "source": []
  },
  {
   "cell_type": "markdown",
   "metadata": {},
   "source": [
    "### 2.8 ¿Cuál es la desviación estándar?"
   ]
  },
  {
   "cell_type": "code",
   "execution_count": null,
   "metadata": {
    "collapsed": true,
    "jupyter": {
     "outputs_hidden": true
    }
   },
   "outputs": [],
   "source": []
  },
  {
   "cell_type": "markdown",
   "metadata": {},
   "source": [
    "### 2.9 Cuál es el mayor (más positivo) y el menor (más negativo) _cambio_ de un valor a otro"
   ]
  },
  {
   "cell_type": "code",
   "execution_count": null,
   "metadata": {
    "collapsed": true,
    "jupyter": {
     "outputs_hidden": true
    }
   },
   "outputs": [],
   "source": []
  },
  {
   "cell_type": "markdown",
   "metadata": {},
   "source": [
    "## 3 Listas vs. Tuplas\n",
    "\n",
    "La diferencia entre [listas](https://docs.python.org/3/tutorial/datastructures.html#more-on-lists) y [tuplas](https://docs.python.org/3/tutorial/datastructures.html#tuples-and-sequences) es una fuente persistente de confusión sobre python. La diferencia clave es que **las listas son mutables** mientras que las **tuplas son inmutables**. Este breve ejercicio está diseñado para ayudarte a entender lo que esto significa."
   ]
  },
  {
   "cell_type": "markdown",
   "metadata": {},
   "source": [
    "### 3.1 Crear una lista de los tres primeros planetas del sistema solar"
   ]
  },
  {
   "cell_type": "code",
   "execution_count": null,
   "metadata": {
    "collapsed": true,
    "jupyter": {
     "outputs_hidden": true
    }
   },
   "outputs": [],
   "source": []
  },
  {
   "cell_type": "markdown",
   "metadata": {},
   "source": [
    "### 3.2 Añade el cuarto planeta al final de la lista\n",
    "(Imprime la lista para poder verificar su contenido después de cada modificación)"
   ]
  },
  {
   "cell_type": "code",
   "execution_count": null,
   "metadata": {
    "collapsed": true,
    "jupyter": {
     "outputs_hidden": true
    }
   },
   "outputs": [],
   "source": []
  },
  {
   "cell_type": "markdown",
   "metadata": {},
   "source": [
    "### 3.3 Venus ha explotado. Elimínalo de la lista"
   ]
  },
  {
   "cell_type": "code",
   "execution_count": null,
   "metadata": {
    "collapsed": true,
    "jupyter": {
     "outputs_hidden": true
    }
   },
   "outputs": [],
   "source": []
  },
  {
   "cell_type": "markdown",
   "metadata": {},
   "source": [
    "### 3.4 Convertir el último elemento de la lista en mayúsculas"
   ]
  },
  {
   "cell_type": "code",
   "execution_count": null,
   "metadata": {
    "collapsed": true,
    "jupyter": {
     "outputs_hidden": true
    }
   },
   "outputs": [],
   "source": []
  },
  {
   "cell_type": "markdown",
   "metadata": {},
   "source": [
    "### 3.5 Crear una tupla de los tres primeros planetas del sistema solar"
   ]
  },
  {
   "cell_type": "code",
   "execution_count": null,
   "metadata": {
    "collapsed": true,
    "jupyter": {
     "outputs_hidden": true
    }
   },
   "outputs": [],
   "source": []
  },
  {
   "cell_type": "markdown",
   "metadata": {},
   "source": [
    "### 3.6 Intenta añadir o eliminar elementos de la tupla\n",
    "Adelante, ¡inténtalo! ¡Atrévete!"
   ]
  },
  {
   "cell_type": "code",
   "execution_count": null,
   "metadata": {
    "collapsed": true,
    "jupyter": {
     "outputs_hidden": true
    }
   },
   "outputs": [],
   "source": []
  },
  {
   "cell_type": "markdown",
   "metadata": {},
   "source": [
    "### 3.7 Crea una nueva tupla concatenando una segunda tupla a tu tupla original \n",
    "(No se necesitan bucles). Deberia de funcionar. Comprueba tu tupla original. ¿Cambió?"
   ]
  },
  {
   "cell_type": "code",
   "execution_count": null,
   "metadata": {
    "collapsed": true,
    "jupyter": {
     "outputs_hidden": true
    }
   },
   "outputs": [],
   "source": []
  }
 ],
 "metadata": {
  "kernelspec": {
   "display_name": "Python 3 (ipykernel)",
   "language": "python",
   "name": "python3"
  },
  "language_info": {
   "codemirror_mode": {
    "name": "ipython",
    "version": 3
   },
   "file_extension": ".py",
   "mimetype": "text/x-python",
   "name": "python",
   "nbconvert_exporter": "python",
   "pygments_lexer": "ipython3",
   "version": "3.9.7"
  }
 },
 "nbformat": 4,
 "nbformat_minor": 4
}
